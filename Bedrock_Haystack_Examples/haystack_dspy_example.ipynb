{
 "cells": [
  {
   "cell_type": "markdown",
   "metadata": {},
   "source": [
    "## Automate prompt engineering with DSPy and Haystack\n",
    "---\n",
    "\n",
    "In this example, we will take a look at how we can optimize and automate the prompt engineering process using `Haystack` (to create our generative AI pipeline) and `DSPy` (to optimize our prompts and LM weights)."
   ]
  },
  {
   "cell_type": "code",
   "execution_count": 1,
   "metadata": {},
   "outputs": [],
   "source": [
    "# For each component, it is essential to know the names of the input and the output. There are several components for various steps\n",
    "# of the generative AI pipeline that are provided out of the box. This includes components for document stores, embedders, prompt\n",
    "# builders and generators. You can also build your own component.\n",
    "!pip install -Uq pip\n",
    "!pip install -Uq haystack\n",
    "!pip install -Uq sentence-transformers\n",
    "!pip install -Uq amazon-bedrock-haystack"
   ]
  },
  {
   "cell_type": "code",
   "execution_count": 25,
   "metadata": {},
   "outputs": [],
   "source": [
    "# import dependencies\n",
    "import dspy\n",
    "import json\n",
    "import logging\n",
    "from haystack import Pipeline\n",
    "from dspy.primitives.prediction import Prediction\n",
    "\n",
    "# Set a logger\n",
    "logging.basicConfig(format='[%(asctime)s] p%(process)s {%(filename)s:%(lineno)d} %(levelname)s - %(message)s', level=logging.INFO)\n",
    "logger = logging.getLogger(__name__)\n",
    "\n",
    "# initialize a haystack pipeline\n",
    "pipeline = Pipeline()"
   ]
  },
  {
   "cell_type": "code",
   "execution_count": 3,
   "metadata": {},
   "outputs": [],
   "source": [
    "# Define the global variables: AWS Region, Model IDs for different models that are used in different \n",
    "# parts of the haystack pipeline and DSPy workflow\n",
    "AWS_REGION: str = \"us-west-2\"\n",
    "BEDROCK_HAIKU_MODELID: str = \"anthropic.claude-3-haiku-20240307-v1:0\"\n",
    "SONNET_3_5_MODELID: str = \"anthropic.claude-3-5-sonnet-20240620-v1:0\"\n",
    "SONNET_MODELID: str = \"anthropic.claude-3-sonnet-20240229-v1:0\"\n",
    "TITAN_TEXT_EMBED_MODELID: str = \"amazon.titan-embed-text-v2:0\""
   ]
  },
  {
   "cell_type": "code",
   "execution_count": 4,
   "metadata": {},
   "outputs": [
    {
     "data": {
      "text/html": [
       "<div>\n",
       "<style scoped>\n",
       "    .dataframe tbody tr th:only-of-type {\n",
       "        vertical-align: middle;\n",
       "    }\n",
       "\n",
       "    .dataframe tbody tr th {\n",
       "        vertical-align: top;\n",
       "    }\n",
       "\n",
       "    .dataframe thead th {\n",
       "        text-align: right;\n",
       "    }\n",
       "</style>\n",
       "<table border=\"1\" class=\"dataframe\">\n",
       "  <thead>\n",
       "    <tr style=\"text-align: right;\">\n",
       "      <th></th>\n",
       "      <th>instruction</th>\n",
       "      <th>context</th>\n",
       "      <th>response</th>\n",
       "      <th>category</th>\n",
       "    </tr>\n",
       "  </thead>\n",
       "  <tbody>\n",
       "    <tr>\n",
       "      <th>0</th>\n",
       "      <td>Do cC and CXC chemokine levels in children wit...</td>\n",
       "      <td>Chemokines are a superfamily of small peptides...</td>\n",
       "      <td>Initial-phase serum levels of chemokines in pa...</td>\n",
       "      <td>closed_qa</td>\n",
       "    </tr>\n",
       "    <tr>\n",
       "      <th>1</th>\n",
       "      <td>Are sAH gene variants associated with obesity-...</td>\n",
       "      <td>The SAH gene locus has recently been proposed ...</td>\n",
       "      <td>We confirm recent evidence that the SAH locus ...</td>\n",
       "      <td>closed_qa</td>\n",
       "    </tr>\n",
       "    <tr>\n",
       "      <th>2</th>\n",
       "      <td>Do the functional anatomy of gaze-evoked tinni...</td>\n",
       "      <td>To identify neural sites associated with gaze-...</td>\n",
       "      <td>Patients with GET have plastic changes in mult...</td>\n",
       "      <td>closed_qa</td>\n",
       "    </tr>\n",
       "    <tr>\n",
       "      <th>3</th>\n",
       "      <td>Does neighborhood fast-food outlet exposure am...</td>\n",
       "      <td>Greater exposures to fast-food outlets and low...</td>\n",
       "      <td>These findings suggest that efforts to improve...</td>\n",
       "      <td>closed_qa</td>\n",
       "    </tr>\n",
       "    <tr>\n",
       "      <th>4</th>\n",
       "      <td>Does conditioned pain modulation predict exerc...</td>\n",
       "      <td>Conditioned pain modulation (CPM) is the conce...</td>\n",
       "      <td>CPM was attenuated in older adults, as measure...</td>\n",
       "      <td>closed_qa</td>\n",
       "    </tr>\n",
       "  </tbody>\n",
       "</table>\n",
       "</div>"
      ],
      "text/plain": [
       "                                         instruction  \\\n",
       "0  Do cC and CXC chemokine levels in children wit...   \n",
       "1  Are sAH gene variants associated with obesity-...   \n",
       "2  Do the functional anatomy of gaze-evoked tinni...   \n",
       "3  Does neighborhood fast-food outlet exposure am...   \n",
       "4  Does conditioned pain modulation predict exerc...   \n",
       "\n",
       "                                             context  \\\n",
       "0  Chemokines are a superfamily of small peptides...   \n",
       "1  The SAH gene locus has recently been proposed ...   \n",
       "2  To identify neural sites associated with gaze-...   \n",
       "3  Greater exposures to fast-food outlets and low...   \n",
       "4  Conditioned pain modulation (CPM) is the conce...   \n",
       "\n",
       "                                            response   category  \n",
       "0  Initial-phase serum levels of chemokines in pa...  closed_qa  \n",
       "1  We confirm recent evidence that the SAH locus ...  closed_qa  \n",
       "2  Patients with GET have plastic changes in mult...  closed_qa  \n",
       "3  These findings suggest that efforts to improve...  closed_qa  \n",
       "4  CPM was attenuated in older adults, as measure...  closed_qa  "
      ]
     },
     "execution_count": 4,
     "metadata": {},
     "output_type": "execute_result"
    }
   ],
   "source": [
    "import pandas as pd\n",
    "from datasets import load_dataset\n",
    "\n",
    "# This dataset contains information about instructions, context for that instruction, a response and the category, \n",
    "dataset = load_dataset(\"vblagoje/PubMedQA_instruction\")\n",
    "\n",
    "# Shuffle and select 1000 samples from the 'train' split\n",
    "train_data = dataset['train'].shuffle(seed=42).select(range(1000))\n",
    "df = pd.DataFrame(train_data)\n",
    "\n",
    "# Save as CSV\n",
    "csv_path = \"PubMedQA_instruction.csv\"\n",
    "df.to_csv(csv_path, index=False)\n",
    "\n",
    "logger.info(f\"Dataset saved to {csv_path}\")\n",
    "df.head()"
   ]
  },
  {
   "cell_type": "code",
   "execution_count": 5,
   "metadata": {},
   "outputs": [
    {
     "name": "stdout",
     "output_type": "stream",
     "text": [
      "<class 'pandas.core.frame.DataFrame'>\n",
      "RangeIndex: 1000 entries, 0 to 999\n",
      "Data columns (total 4 columns):\n",
      " #   Column       Non-Null Count  Dtype \n",
      "---  ------       --------------  ----- \n",
      " 0   instruction  1000 non-null   object\n",
      " 1   context      1000 non-null   object\n",
      " 2   response     1000 non-null   object\n",
      " 3   category     1000 non-null   object\n",
      "dtypes: object(4)\n",
      "memory usage: 31.4+ KB\n"
     ]
    }
   ],
   "source": [
    "# view the information on the dataset that is loaded\n",
    "df.info()"
   ]
  },
  {
   "cell_type": "markdown",
   "metadata": {},
   "source": [
    "#### Load the `vblagoje/PubMedQA_instruction` dataset in the in-memory document store"
   ]
  },
  {
   "cell_type": "code",
   "execution_count": 6,
   "metadata": {},
   "outputs": [
    {
     "data": {
      "text/plain": [
       "<haystack.core.pipeline.pipeline.Pipeline object at 0x30287d190>\n",
       "🚅 Components\n",
       "  - embedder: AmazonBedrockDocumentEmbedder\n",
       "  - writer: DocumentWriter\n",
       "🛤️ Connections\n",
       "  - embedder.documents -> writer.documents (List[Document])"
      ]
     },
     "execution_count": 6,
     "metadata": {},
     "output_type": "execute_result"
    }
   ],
   "source": [
    "import pandas as pd\n",
    "from haystack.dataclasses import Document\n",
    "from haystack.components.writers import DocumentWriter\n",
    "from haystack.document_stores.in_memory import InMemoryDocumentStore\n",
    "from haystack.components.retrievers.in_memory import InMemoryEmbeddingRetriever\n",
    "from haystack_integrations.components.embedders.amazon_bedrock import (\n",
    "    AmazonBedrockDocumentEmbedder,\n",
    "    AmazonBedrockTextEmbedder,\n",
    ")\n",
    "\n",
    "# Create an InMemoryDocumentStore with cosine similarity\n",
    "document_store = InMemoryDocumentStore(embedding_similarity_function=\"cosine\")\n",
    "\n",
    "# Initialize the Bedrock document embedder with Titan model\n",
    "document_embedder = AmazonBedrockDocumentEmbedder(\n",
    "    model=TITAN_TEXT_EMBED_MODELID,\n",
    "    aws_region=AWS_REGION # Specify your AWS region\n",
    ")\n",
    "\n",
    "# Add components to the pipeline\n",
    "pipeline.add_component('embedder', document_embedder)\n",
    "pipeline.add_component('writer', DocumentWriter(document_store))\n",
    "\n",
    "# Connect the components\n",
    "# The embedder will create embeddings that the writer will store\n",
    "pipeline.connect('embedder.documents', 'writer.documents')\n"
   ]
  },
  {
   "cell_type": "code",
   "execution_count": 7,
   "metadata": {},
   "outputs": [
    {
     "data": {
      "image/png": "[encoded data removed]",
      "text/plain": [
       "<IPython.core.display.Image object>"
      ]
     },
     "metadata": {},
     "output_type": "display_data"
    }
   ],
   "source": [
    "# View the current status of the pipeline\n",
    "pipeline.show()"
   ]
  },
  {
   "cell_type": "markdown",
   "metadata": {},
   "source": [
    "### Write the documents to the document store using `pipeline.run` on the `embedder`"
   ]
  },
  {
   "cell_type": "code",
   "execution_count": 8,
   "metadata": {},
   "outputs": [
    {
     "name": "stderr",
     "output_type": "stream",
     "text": [
      "Creating embeddings: 100%|██████████| 1000/1000 [01:47<00:00,  9.34it/s]\n"
     ]
    },
    {
     "data": {
      "text/plain": [
       "{'writer': {'documents_written': 1000}}"
      ]
     },
     "execution_count": 8,
     "metadata": {},
     "output_type": "execute_result"
    }
   ],
   "source": [
    "import pandas as pd\n",
    "from haystack.dataclasses import Document\n",
    "\n",
    "# Load the dataset\n",
    "df = pd.read_csv(csv_path) \n",
    "\n",
    "# Prepare documents\n",
    "documents = []\n",
    "for _, row in df.iterrows():\n",
    "    doc = Document(\n",
    "        content=f\"Instruction: {row['instruction']}\\nContext: {row['context']}\\nResponse: {row['response']}\",\n",
    "        meta={\n",
    "            \"category\": row[\"category\"],\n",
    "            \"question\": row[\"instruction\"]\n",
    "        }\n",
    "    )\n",
    "    documents.append(doc)\n",
    "\n",
    "# Run the pipeline with the documents from the DataFrame\n",
    "pipeline.run({\n",
    "    \"embedder\": {\n",
    "        \"documents\": documents\n",
    "    }\n",
    "})"
   ]
  },
  {
   "cell_type": "code",
   "execution_count": 9,
   "metadata": {},
   "outputs": [
    {
     "name": "stdout",
     "output_type": "stream",
     "text": [
      "Added 1000 documents to the document store.\n"
     ]
    }
   ],
   "source": [
    "print(f\"Added {len(documents)} documents to the document store.\")"
   ]
  },
  {
   "cell_type": "markdown",
   "metadata": {},
   "source": [
    "### Create the haystack pipeline"
   ]
  },
  {
   "cell_type": "code",
   "execution_count": 13,
   "metadata": {},
   "outputs": [
    {
     "data": {
      "text/plain": [
       "<haystack.core.pipeline.pipeline.Pipeline object at 0x34de3c890>\n",
       "🚅 Components\n",
       "  - retriever: InMemoryBM25Retriever\n",
       "  - prompt_builder: PromptBuilder\n",
       "  - llm: AmazonBedrockGenerator\n",
       "🛤️ Connections\n",
       "  - retriever.documents -> prompt_builder.documents (List[Document])\n",
       "  - prompt_builder.prompt -> llm.prompt (str)"
      ]
     },
     "execution_count": 13,
     "metadata": {},
     "output_type": "execute_result"
    }
   ],
   "source": [
    "from haystack import Pipeline\n",
    "from haystack.components.builders import PromptBuilder\n",
    "from haystack.components.retrievers.in_memory import InMemoryBM25Retriever\n",
    "from haystack_integrations.components.generators.amazon_bedrock import AmazonBedrockGenerator\n",
    "\n",
    "# Initialize the amazon bedrock generator that is used to generate responses to questions\n",
    "# at the inference step of the RAG pipeline\n",
    "generator = AmazonBedrockGenerator(model=BEDROCK_HAIKU_MODELID)\n",
    "\n",
    "# initialize the retriever\n",
    "retriever = InMemoryBM25Retriever(document_store, top_k=3)\n",
    "\n",
    "# Haystack uses jinja template formatting\n",
    "template = \"\"\"\n",
    "Given the following information, answer the question given below.\n",
    "\n",
    "Context:\n",
    "{% for document in documents %}\n",
    "    {{ document.content }}\n",
    "{% endfor %}\n",
    "\n",
    "Question: {{question}}\n",
    "Answer:\n",
    "\"\"\"\n",
    "\n",
    "# Build the prompt and add other components to the RAG\n",
    "# pipeline\n",
    "prompt_builder = PromptBuilder(template=template)\n",
    "rag_pipeline = Pipeline()\n",
    "rag_pipeline.add_component(\"retriever\", retriever)\n",
    "rag_pipeline.add_component(\"prompt_builder\", prompt_builder)\n",
    "rag_pipeline.add_component(\"llm\", generator)\n",
    "\n",
    "rag_pipeline.connect(\"retriever\", \"prompt_builder.documents\")\n",
    "rag_pipeline.connect(\"prompt_builder\", \"llm\")"
   ]
  },
  {
   "cell_type": "code",
   "execution_count": 18,
   "metadata": {},
   "outputs": [],
   "source": [
    "# view the pipeline\n",
    "# rag_pipeline.show()"
   ]
  },
  {
   "cell_type": "code",
   "execution_count": 26,
   "metadata": {},
   "outputs": [
    {
     "name": "stdout",
     "output_type": "stream",
     "text": [
      "A neurodegenerative disease is a condition that primarily affects the neurons (nerve cells) in the brain and leads to the progressive degeneration and/or death of those neurons over time. This can result in a decline in various cognitive, motor, and sensory functions.\n",
      "\n",
      "Some examples of neurodegenerative diseases include:\n",
      "\n",
      "1. Alzheimer's disease: This is the most common form of dementia, characterized by progressive memory loss, cognitive decline, and changes in\n"
     ]
    }
   ],
   "source": [
    "# run the pipeline and ask a question\n",
    "question: str = \"What is a neurodegenerative disease? Give me examples\"\n",
    "response = rag_pipeline.run({\"retriever\": {\"query\": question}, \"prompt_builder\": {\"question\": question}})\n",
    "print(response[\"llm\"][\"replies\"][0])"
   ]
  },
  {
   "cell_type": "code",
   "execution_count": 27,
   "metadata": {},
   "outputs": [
    {
     "name": "stdout",
     "output_type": "stream",
     "text": [
      "{\n",
      "  \"llm\": {\n",
      "    \"replies\": [\n",
      "      \"A neurodegenerative disease is a condition that primarily affects the neurons (nerve cells) in the brain and leads to the progressive degeneration and/or death of those neurons over time. This can result in a decline in various cognitive, motor, and sensory functions.\\n\\nSome examples of neurodegenerative diseases include:\\n\\n1. Alzheimer's disease: This is the most common form of dementia, characterized by progressive memory loss, cognitive decline, and changes in\"\n",
      "    ]\n",
      "  }\n",
      "}\n"
     ]
    }
   ],
   "source": [
    "print(json.dumps(response, indent=2))"
   ]
  },
  {
   "cell_type": "markdown",
   "metadata": {},
   "source": [
    "Now we have a simple RAG application working. Now we want to optimize the prompts so that we can get more concise responses. We will achieve this using `DSPy`\n",
    "\n",
    "`DSPy` is a framework designed to algorithmically optimize prompts for Language Models."
   ]
  },
  {
   "cell_type": "markdown",
   "metadata": {},
   "source": [
    "### Use DSPy to get concise answers"
   ]
  },
  {
   "cell_type": "code",
   "execution_count": 29,
   "metadata": {},
   "outputs": [],
   "source": [
    "import dspy\n",
    "from dspy.primitives.prediction import Prediction\n",
    "\n",
    "\n",
    "lm = dspy.LM(BEDROCK_HAIKU_MODELID)\n",
    "dspy.settings.configure(lm=lm)"
   ]
  },
  {
   "cell_type": "markdown",
   "metadata": {},
   "source": [
    "### Create the dspy signature for question answering\n",
    "---\n",
    "\n",
    "We can make changes in the signature to create shorter outputs to questions as we desire"
   ]
  },
  {
   "cell_type": "code",
   "execution_count": 30,
   "metadata": {},
   "outputs": [],
   "source": [
    "# Now we will create a signature to generate answers that are more concise\n",
    "# and capture the key components of the question instead of giving lengthy\n",
    "# responses\n",
    "# Enhanced signature for generating concise responses\n",
    "class GenerateConciseResponses(dspy.Signature):\n",
    "    \"\"\"Generate extremely concise, information-dense responses to questions along with examples.\"\"\"\n",
    "\n",
    "    context = dspy.InputField(desc=\"Relevant information to answer the question\")\n",
    "    question = dspy.InputField()\n",
    "    response = dspy.OutputField(desc=\"Provide a concise answer in 15 words or less. Focus on key information only.\")"
   ]
  },
  {
   "cell_type": "markdown",
   "metadata": {},
   "source": [
    "### Create a RAG module to make predictions"
   ]
  },
  {
   "cell_type": "code",
   "execution_count": 31,
   "metadata": {},
   "outputs": [],
   "source": [
    "class ConciseRAG(dspy.Module):\n",
    "    def __init__(self):\n",
    "        super().__init__()\n",
    "        self.generate_answer = dspy.ChainOfThought(GenerateConciseResponses)\n",
    "\n",
    "    def retrieve(self, question):\n",
    "        \"\"\"\n",
    "        In this function, we make this so it is possible for us to \n",
    "        re use the haystack retriever that already contains all of the indexed \n",
    "        documents\n",
    "        \"\"\"\n",
    "        results = retriever.run(query=question)\n",
    "        passages = [res.content for res in results['documents']]\n",
    "        return Prediction(passages=passages)\n",
    "\n",
    "    def forward(self, question):\n",
    "        context = self.retrieve(question).passages\n",
    "        prediction = self.generate_answer(context=context, question=question)\n",
    "        return dspy.Prediction(context=context, answer=prediction.response)"
   ]
  },
  {
   "cell_type": "markdown",
   "metadata": {},
   "source": [
    "### Prepare training and test data\n",
    "---\n",
    "\n",
    "Now we will refer to the previous HF dataset we loaded, and use it to split into training and test examples. We will use these examples in our prompt optimization process"
   ]
  },
  {
   "cell_type": "code",
   "execution_count": 32,
   "metadata": {},
   "outputs": [
    {
     "data": {
      "text/plain": [
       "DatasetDict({\n",
       "    train: Dataset({\n",
       "        features: ['instruction', 'context', 'response', 'category'],\n",
       "        num_rows: 272458\n",
       "    })\n",
       "    test: Dataset({\n",
       "        features: ['instruction', 'context', 'response', 'category'],\n",
       "        num_rows: 1000\n",
       "    })\n",
       "})"
      ]
     },
     "execution_count": 32,
     "metadata": {},
     "output_type": "execute_result"
    }
   ],
   "source": [
    "dataset"
   ]
  },
  {
   "cell_type": "code",
   "execution_count": 33,
   "metadata": {},
   "outputs": [
    {
     "data": {
      "text/plain": [
       "Dataset({\n",
       "    features: ['instruction', 'context', 'response', 'category'],\n",
       "    num_rows: 1000\n",
       "})"
      ]
     },
     "execution_count": 33,
     "metadata": {},
     "output_type": "execute_result"
    }
   ],
   "source": [
    "train_data"
   ]
  },
  {
   "cell_type": "code",
   "execution_count": 34,
   "metadata": {},
   "outputs": [],
   "source": [
    "from typing import List, Optional\n",
    "training_examples: List = []\n",
    "test_examples: List = []\n",
    "# Access the train split specifically\n",
    "train_data = dataset['train']\n",
    "\n",
    "for i, example in enumerate(train_data):\n",
    "    try:\n",
    "        # craft the dspy example\n",
    "        dspy_example = dspy.Example(question=example['instruction'], answer=example['response']).with_inputs('question')\n",
    "        if i < 20:\n",
    "            training_examples.append(dspy_example)\n",
    "        elif i < 70:\n",
    "            test_examples.append(dspy_example)\n",
    "        else:\n",
    "            break\n",
    "    except Exception as e:\n",
    "        print(f\"Error processing example {i}: {e}\")\n",
    "        continue"
   ]
  },
  {
   "cell_type": "code",
   "execution_count": 35,
   "metadata": {},
   "outputs": [
    {
     "name": "stdout",
     "output_type": "stream",
     "text": [
      "\n",
      "Sample training example:\n",
      "Question: Are group 2 innate lymphoid cells ( ILC2s ) increased in chronic rhinosinusitis with nasal polyps or eosinophilia?\n",
      "Answer: As ILC2s are elevated in patients with CRSwNP, they may drive nasal polyp formation in CRS. ILC2s are also linked with high tissue and blood eosinophilia and have a potential role in the activation and survival of eosinophils during the Th2 immune response. The association of innate lymphoid cells in CRS provides insights into its pathogenesis.\n"
     ]
    }
   ],
   "source": [
    "print(\"\\nSample training example:\")\n",
    "print(f\"Question: {training_examples[0].question}\")\n",
    "print(f\"Answer: {training_examples[0].answer}\")"
   ]
  },
  {
   "cell_type": "markdown",
   "metadata": {},
   "source": [
    "### Define a metric to optimize for\n",
    "---\n",
    "\n",
    "In this section, we will add a metric. Adding and tracking a metric as a part of the prompt optimization process is essential. We will create an example metric to use the HayStack SAS evaluator for the semantic match.\n",
    "\n",
    "1. `concise_metric` checks for the semantic similarity\n",
    "1. Uses a custom tiering system to score the length of the outputs.\n",
    "1. Gives the final score based on the tiered length * semantic similarity score"
   ]
  },
  {
   "cell_type": "code",
   "execution_count": 36,
   "metadata": {},
   "outputs": [],
   "source": [
    "from haystack.components.evaluators import SASEvaluator\n",
    "\n",
    "# Initialize the sas evaluator and warm it up\n",
    "sas_evaluator = SASEvaluator()\n",
    "sas_evaluator.warm_up()"
   ]
  },
  {
   "cell_type": "code",
   "execution_count": 37,
   "metadata": {},
   "outputs": [],
   "source": [
    "def concise_metric(example, pred, trace=None) -> float:\n",
    "    \"\"\"\n",
    "    Enhanced metric that strongly favors concise, information-dense responses.\n",
    "    \"\"\"\n",
    "    semantic_similarity = sas_evaluator.run(\n",
    "        ground_truth_answers=[example.answer], \n",
    "        predicted_answers=[pred.answer]\n",
    "    )[\"score\"]\n",
    "    \n",
    "    pred_words = len(pred.answer.split())\n",
    "    target_words = len(example.answer.split())\n",
    "\n",
    "    # Enhanced tiered scoring with information density consideration\n",
    "    if pred_words <= 20:\n",
    "        length_multiplier = 1.2 \n",
    "    elif pred_words <= 25:\n",
    "        length_multiplier = 1.0\n",
    "    elif pred_words <= 30:\n",
    "        length_multiplier = 0.7\n",
    "    elif pred_words <= 35:\n",
    "        length_multiplier = 0.4\n",
    "    else:\n",
    "        length_multiplier = 0.1\n",
    "    \n",
    "    # Penalize responses that are much shorter than target (might be incomplete)\n",
    "    if pred_words < target_words * 0.5:\n",
    "        completeness_penalty = 0.3\n",
    "    else:\n",
    "        completeness_penalty = 0.0\n",
    "    final_score = (semantic_similarity * length_multiplier) - completeness_penalty\n",
    "    # Normalize score to be between 0 and 1\n",
    "    return max(min(final_score, 1.0), 0.0)"
   ]
  },
  {
   "cell_type": "code",
   "execution_count": 38,
   "metadata": {},
   "outputs": [
    {
     "name": "stdout",
     "output_type": "stream",
     "text": [
      "Average Metric: 12.196681704372166 / 50  (24.4): 100%|██████████| 50/50 [01:42<00:00,  2.06s/it]"
     ]
    },
    {
     "name": "stderr",
     "output_type": "stream",
     "text": [
      "2024/11/13 09:05:44 INFO dspy.evaluate.evaluate: Average Metric: 12.196681704372166 / 50 (24.4%)\n"
     ]
    },
    {
     "name": "stdout",
     "output_type": "stream",
     "text": [
      "\n"
     ]
    },
    {
     "data": {
      "text/html": [
       "<style type=\"text/css\">\n",
       "#T_946a3 th {\n",
       "  text-align: left;\n",
       "}\n",
       "#T_946a3 td {\n",
       "  text-align: left;\n",
       "}\n",
       "#T_946a3_row0_col0, #T_946a3_row0_col1, #T_946a3_row0_col2, #T_946a3_row0_col3, #T_946a3_row0_col4, #T_946a3_row1_col0, #T_946a3_row1_col1, #T_946a3_row1_col2, #T_946a3_row1_col3, #T_946a3_row1_col4, #T_946a3_row2_col0, #T_946a3_row2_col1, #T_946a3_row2_col2, #T_946a3_row2_col3, #T_946a3_row2_col4, #T_946a3_row3_col0, #T_946a3_row3_col1, #T_946a3_row3_col2, #T_946a3_row3_col3, #T_946a3_row3_col4, #T_946a3_row4_col0, #T_946a3_row4_col1, #T_946a3_row4_col2, #T_946a3_row4_col3, #T_946a3_row4_col4 {\n",
       "  text-align: left;\n",
       "  white-space: pre-wrap;\n",
       "  word-wrap: break-word;\n",
       "  max-width: 400px;\n",
       "}\n",
       "</style>\n",
       "<table id=\"T_946a3\">\n",
       "  <thead>\n",
       "    <tr>\n",
       "      <th class=\"blank level0\" >&nbsp;</th>\n",
       "      <th id=\"T_946a3_level0_col0\" class=\"col_heading level0 col0\" >question</th>\n",
       "      <th id=\"T_946a3_level0_col1\" class=\"col_heading level0 col1\" >example_answer</th>\n",
       "      <th id=\"T_946a3_level0_col2\" class=\"col_heading level0 col2\" >context</th>\n",
       "      <th id=\"T_946a3_level0_col3\" class=\"col_heading level0 col3\" >pred_answer</th>\n",
       "      <th id=\"T_946a3_level0_col4\" class=\"col_heading level0 col4\" >concise_metric</th>\n",
       "    </tr>\n",
       "  </thead>\n",
       "  <tbody>\n",
       "    <tr>\n",
       "      <th id=\"T_946a3_level0_row0\" class=\"row_heading level0 row0\" >0</th>\n",
       "      <td id=\"T_946a3_row0_col0\" class=\"data row0 col0\" >Is increased time from neoadjuvant chemoradiation to surgery associated with higher pathologic complete response rates in esophageal cancer?</td>\n",
       "      <td id=\"T_946a3_row0_col1\" class=\"data row0 col1\" >A longer interval between completion of neoadjuvant chemoradiation and surgery was associated with higher pathologic complete response rates without an impact on surgical morbidity.</td>\n",
       "      <td id=\"T_946a3_row0_col2\" class=\"data row0 col2\" >['Instruction: Neoadjuvant chemoradiation and duration of chemotherapy before surgical resection for pancreatic cancer: does time interval between radiotherapy and surgery matter?\\nContext: Neoadjuvant chemoradiation and chemotherapy...</td>\n",
       "      <td id=\"T_946a3_row0_col3\" class=\"data row0 col3\" >Increasing the time interval from neoadjuvant chemoradiation to surgery is associated with higher pathologic complete response rates in esophageal cancer, but does not improve overall...</td>\n",
       "      <td id=\"T_946a3_row0_col4\" class=\"data row0 col4\" >✔️ [0.545]</td>\n",
       "    </tr>\n",
       "    <tr>\n",
       "      <th id=\"T_946a3_level0_row1\" class=\"row_heading level0 row1\" >1</th>\n",
       "      <td id=\"T_946a3_row1_col0\" class=\"data row1 col0\" >Is epileptic focus localization based on resting state interictal MEG recordings feasible irrespective of the presence or absence of spikes?</td>\n",
       "      <td id=\"T_946a3_row1_col1\" class=\"data row1 col1\" >Our preliminary results suggest that accurate localization of the epileptogenic focus may be accomplished using noninvasive spontaneous \"resting-state\" recordings of relatively brief duration and without...</td>\n",
       "      <td id=\"T_946a3_row1_col2\" class=\"data row1 col2\" >['Instruction: Pneumonia in the aged patient: is the clinical presentation atypical?\\nContext: Some new studies have questioned the often atypical character of pneumonia in aged patients....</td>\n",
       "      <td id=\"T_946a3_row1_col3\" class=\"data row1 col3\" >Unable to provide a response, as the given context does not contain information relevant to the question.</td>\n",
       "      <td id=\"T_946a3_row1_col4\" class=\"data row1 col4\" >✔️ [0.101]</td>\n",
       "    </tr>\n",
       "    <tr>\n",
       "      <th id=\"T_946a3_level0_row2\" class=\"row_heading level0 row2\" >2</th>\n",
       "      <td id=\"T_946a3_row2_col0\" class=\"data row2 col0\" >Does seminal Helicobacter pylori treatment improve sperm motility in infertile asthenozoospermic men?</td>\n",
       "      <td id=\"T_946a3_row2_col1\" class=\"data row2 col1\" >H pylori treatment significantly improves sperm motility in infertile asthenozoospermic men with elevated seminal H pylori IgA.</td>\n",
       "      <td id=\"T_946a3_row2_col2\" class=\"data row2 col2\" >['Instruction: Is the 26-kilodalton , AhpC homologue , of Helicobacter pylori also produced by other Helicobacter species?\\nContext: The 26 kDa protein, which is an alkyl...</td>\n",
       "      <td id=\"T_946a3_row2_col3\" class=\"data row2 col3\" >The provided context does not contain information to answer whether seminal Helicobacter pylori treatment improves sperm motility in infertile asthenozoospermic men.</td>\n",
       "      <td id=\"T_946a3_row2_col4\" class=\"data row2 col4\" >✔️ [0.718]</td>\n",
       "    </tr>\n",
       "    <tr>\n",
       "      <th id=\"T_946a3_level0_row3\" class=\"row_heading level0 row3\" >3</th>\n",
       "      <td id=\"T_946a3_row3_col0\" class=\"data row3 col0\" >Does a migrating ciliary gate compartmentalize the site of axoneme assembly in Drosophila spermatids?</td>\n",
       "      <td id=\"T_946a3_row3_col1\" class=\"data row3 col1\" >Our findings demonstrate that the ciliary gate can migrate away from the base of the cilium, thereby functioning independently of the centriole and of a...</td>\n",
       "      <td id=\"T_946a3_row3_col2\" class=\"data row3 col2\" >['Instruction: Does hypoxia transiently sequester mps1 and polo to collagenase-sensitive filaments in Drosophila prometaphase oocytes?\\nContext: The protein kinases Mps1 and Polo, which are required for...</td>\n",
       "      <td id=\"T_946a3_row3_col3\" class=\"data row3 col3\" >Unable to answer the question based on the given context.</td>\n",
       "      <td id=\"T_946a3_row3_col4\" class=\"data row3 col4\" ></td>\n",
       "    </tr>\n",
       "    <tr>\n",
       "      <th id=\"T_946a3_level0_row4\" class=\"row_heading level0 row4\" >4</th>\n",
       "      <td id=\"T_946a3_row4_col0\" class=\"data row4 col0\" >Is individual Public Transportation Accessibility Positively Associated with Self-Reported Active Commuting?</td>\n",
       "      <td id=\"T_946a3_row4_col1\" class=\"data row4 col1\" >This study extends the knowledge about the driving forces of using public transportation for commuting by examining the individual public transportation accessibility. Findings suggest that...</td>\n",
       "      <td id=\"T_946a3_row4_col2\" class=\"data row4 col2\" >['Instruction: Does association of sleep habits with accidents and near miss in United States transportation operators?\\nContext: To explore sleep risk factors and their association with...</td>\n",
       "      <td id=\"T_946a3_row4_col3\" class=\"data row4 col3\" >Unable to determine based on the given context.</td>\n",
       "      <td id=\"T_946a3_row4_col4\" class=\"data row4 col4\" ></td>\n",
       "    </tr>\n",
       "  </tbody>\n",
       "</table>\n"
      ],
      "text/plain": [
       "<pandas.io.formats.style.Styler object at 0x38d95acd0>"
      ]
     },
     "metadata": {},
     "output_type": "display_data"
    },
    {
     "data": {
      "text/html": [
       "\n",
       "                <div style='\n",
       "                    text-align: center;\n",
       "                    font-size: 16px;\n",
       "                    font-weight: bold;\n",
       "                    color: #555;\n",
       "                    margin: 10px 0;'>\n",
       "                    ... 45 more rows not displayed ...\n",
       "                </div>\n",
       "                "
      ],
      "text/plain": [
       "<IPython.core.display.HTML object>"
      ]
     },
     "metadata": {},
     "output_type": "display_data"
    },
    {
     "data": {
      "text/plain": [
       "24.39"
      ]
     },
     "execution_count": 38,
     "metadata": {},
     "output_type": "execute_result"
    }
   ],
   "source": [
    "# check for how the uncompiled ConciseRAG module performs on the dataset before any optimizations\n",
    "uncompiled_rag = ConciseRAG()\n",
    "from dspy.evaluate.evaluate import Evaluate\n",
    "\n",
    "evaluate = Evaluate(\n",
    "    metric=concise_metric, devset=test_examples, num_threads=1, display_progress=True, display_table=5\n",
    ")\n",
    "evaluate(uncompiled_rag)"
   ]
  },
  {
   "cell_type": "markdown",
   "metadata": {},
   "source": [
    "Now we can see that the metric was evaluated as 42.35, which is pretty low. Now that we have an idea of what the overall dataset it like, we can compile the `ConciseRAG` module using several optimization metrics.\n",
    "\n",
    "Here, we will use the `BootstrapFewShot` teleprompter/optimizer. "
   ]
  },
  {
   "cell_type": "markdown",
   "metadata": {},
   "source": [
    "### Begin module compilation with the `BootstrapFewShot` Optimizer\n",
    "---\n",
    "\n",
    "In this example, we will compile our `ConciseRAG()` module with `BootstrapFewShot` optimizer from DSPy (~3 minutes)\n",
    "\n",
    "View more about this optimizer here: https://dspy.ai/deep-dive/optimizers/bootstrap-fewshot/"
   ]
  },
  {
   "cell_type": "code",
   "execution_count": 39,
   "metadata": {},
   "outputs": [
    {
     "name": "stderr",
     "output_type": "stream",
     "text": [
      " 20%|██        | 4/20 [00:09<00:36,  2.27s/it]"
     ]
    },
    {
     "name": "stdout",
     "output_type": "stream",
     "text": [
      "Bootstrapped 4 full traces after 4 examples for up to 1 rounds, amounting to 4 attempts.\n"
     ]
    },
    {
     "name": "stderr",
     "output_type": "stream",
     "text": [
      "\n"
     ]
    }
   ],
   "source": [
    "from dspy.teleprompt import BootstrapFewShot\n",
    "\n",
    "optimizer = BootstrapFewShot(metric=concise_metric)\n",
    "\n",
    "# Now we will compile our RAG module\n",
    "compiled_rag = optimizer.compile(ConciseRAG(), trainset=training_examples)\n"
   ]
  },
  {
   "cell_type": "code",
   "execution_count": 40,
   "metadata": {},
   "outputs": [
    {
     "name": "stdout",
     "output_type": "stream",
     "text": [
      "Average Metric: 23.706382891535753 / 50  (47.4): 100%|██████████| 50/50 [02:07<00:00,  2.55s/it]"
     ]
    },
    {
     "name": "stderr",
     "output_type": "stream",
     "text": [
      "2024/11/13 09:08:09 INFO dspy.evaluate.evaluate: Average Metric: 23.706382891535753 / 50 (47.4%)\n"
     ]
    },
    {
     "name": "stdout",
     "output_type": "stream",
     "text": [
      "\n"
     ]
    },
    {
     "data": {
      "text/html": [
       "<style type=\"text/css\">\n",
       "#T_ce834 th {\n",
       "  text-align: left;\n",
       "}\n",
       "#T_ce834 td {\n",
       "  text-align: left;\n",
       "}\n",
       "#T_ce834_row0_col0, #T_ce834_row0_col1, #T_ce834_row0_col2, #T_ce834_row0_col3, #T_ce834_row0_col4, #T_ce834_row1_col0, #T_ce834_row1_col1, #T_ce834_row1_col2, #T_ce834_row1_col3, #T_ce834_row1_col4, #T_ce834_row2_col0, #T_ce834_row2_col1, #T_ce834_row2_col2, #T_ce834_row2_col3, #T_ce834_row2_col4, #T_ce834_row3_col0, #T_ce834_row3_col1, #T_ce834_row3_col2, #T_ce834_row3_col3, #T_ce834_row3_col4, #T_ce834_row4_col0, #T_ce834_row4_col1, #T_ce834_row4_col2, #T_ce834_row4_col3, #T_ce834_row4_col4 {\n",
       "  text-align: left;\n",
       "  white-space: pre-wrap;\n",
       "  word-wrap: break-word;\n",
       "  max-width: 400px;\n",
       "}\n",
       "</style>\n",
       "<table id=\"T_ce834\">\n",
       "  <thead>\n",
       "    <tr>\n",
       "      <th class=\"blank level0\" >&nbsp;</th>\n",
       "      <th id=\"T_ce834_level0_col0\" class=\"col_heading level0 col0\" >question</th>\n",
       "      <th id=\"T_ce834_level0_col1\" class=\"col_heading level0 col1\" >example_answer</th>\n",
       "      <th id=\"T_ce834_level0_col2\" class=\"col_heading level0 col2\" >context</th>\n",
       "      <th id=\"T_ce834_level0_col3\" class=\"col_heading level0 col3\" >pred_answer</th>\n",
       "      <th id=\"T_ce834_level0_col4\" class=\"col_heading level0 col4\" >concise_metric</th>\n",
       "    </tr>\n",
       "  </thead>\n",
       "  <tbody>\n",
       "    <tr>\n",
       "      <th id=\"T_ce834_level0_row0\" class=\"row_heading level0 row0\" >0</th>\n",
       "      <td id=\"T_ce834_row0_col0\" class=\"data row0 col0\" >Is increased time from neoadjuvant chemoradiation to surgery associated with higher pathologic complete response rates in esophageal cancer?</td>\n",
       "      <td id=\"T_ce834_row0_col1\" class=\"data row0 col1\" >A longer interval between completion of neoadjuvant chemoradiation and surgery was associated with higher pathologic complete response rates without an impact on surgical morbidity.</td>\n",
       "      <td id=\"T_ce834_row0_col2\" class=\"data row0 col2\" >['Instruction: Neoadjuvant chemoradiation and duration of chemotherapy before surgical resection for pancreatic cancer: does time interval between radiotherapy and surgery matter?\\nContext: Neoadjuvant chemoradiation and chemotherapy...</td>\n",
       "      <td id=\"T_ce834_row0_col3\" class=\"data row0 col3\" >Yes, increased time from neoadjuvant chemoradiation to surgery is associated with higher pathologic complete response rates in esophageal cancer.</td>\n",
       "      <td id=\"T_ce834_row0_col4\" class=\"data row0 col4\" >✔️ [0.935]</td>\n",
       "    </tr>\n",
       "    <tr>\n",
       "      <th id=\"T_ce834_level0_row1\" class=\"row_heading level0 row1\" >1</th>\n",
       "      <td id=\"T_ce834_row1_col0\" class=\"data row1 col0\" >Is epileptic focus localization based on resting state interictal MEG recordings feasible irrespective of the presence or absence of spikes?</td>\n",
       "      <td id=\"T_ce834_row1_col1\" class=\"data row1 col1\" >Our preliminary results suggest that accurate localization of the epileptogenic focus may be accomplished using noninvasive spontaneous \"resting-state\" recordings of relatively brief duration and without...</td>\n",
       "      <td id=\"T_ce834_row1_col2\" class=\"data row1 col2\" >['Instruction: Pneumonia in the aged patient: is the clinical presentation atypical?\\nContext: Some new studies have questioned the often atypical character of pneumonia in aged patients....</td>\n",
       "      <td id=\"T_ce834_row1_col3\" class=\"data row1 col3\" >The provided context does not contain information to determine if epileptic focus localization based on resting state interictal MEG recordings is feasible irrespective of the...</td>\n",
       "      <td id=\"T_ce834_row1_col4\" class=\"data row1 col4\" >✔️ [0.521]</td>\n",
       "    </tr>\n",
       "    <tr>\n",
       "      <th id=\"T_ce834_level0_row2\" class=\"row_heading level0 row2\" >2</th>\n",
       "      <td id=\"T_ce834_row2_col0\" class=\"data row2 col0\" >Does seminal Helicobacter pylori treatment improve sperm motility in infertile asthenozoospermic men?</td>\n",
       "      <td id=\"T_ce834_row2_col1\" class=\"data row2 col1\" >H pylori treatment significantly improves sperm motility in infertile asthenozoospermic men with elevated seminal H pylori IgA.</td>\n",
       "      <td id=\"T_ce834_row2_col2\" class=\"data row2 col2\" >['Instruction: Is the 26-kilodalton , AhpC homologue , of Helicobacter pylori also produced by other Helicobacter species?\\nContext: The 26 kDa protein, which is an alkyl...</td>\n",
       "      <td id=\"T_ce834_row2_col3\" class=\"data row2 col3\" >The provided context does not contain information to determine if seminal Helicobacter pylori treatment improves sperm motility in infertile asthenozoospermic men.</td>\n",
       "      <td id=\"T_ce834_row2_col4\" class=\"data row2 col4\" >✔️ [0.711]</td>\n",
       "    </tr>\n",
       "    <tr>\n",
       "      <th id=\"T_ce834_level0_row3\" class=\"row_heading level0 row3\" >3</th>\n",
       "      <td id=\"T_ce834_row3_col0\" class=\"data row3 col0\" >Does a migrating ciliary gate compartmentalize the site of axoneme assembly in Drosophila spermatids?</td>\n",
       "      <td id=\"T_ce834_row3_col1\" class=\"data row3 col1\" >Our findings demonstrate that the ciliary gate can migrate away from the base of the cilium, thereby functioning independently of the centriole and of a...</td>\n",
       "      <td id=\"T_ce834_row3_col2\" class=\"data row3 col2\" >['Instruction: Does hypoxia transiently sequester mps1 and polo to collagenase-sensitive filaments in Drosophila prometaphase oocytes?\\nContext: The protein kinases Mps1 and Polo, which are required for...</td>\n",
       "      <td id=\"T_ce834_row3_col3\" class=\"data row3 col3\" >The provided context does not contain information to determine if a migrating ciliary gate compartmentalizes the site of axoneme assembly in Drosophila spermatids.</td>\n",
       "      <td id=\"T_ce834_row3_col4\" class=\"data row3 col4\" >✔️ [0.571]</td>\n",
       "    </tr>\n",
       "    <tr>\n",
       "      <th id=\"T_ce834_level0_row4\" class=\"row_heading level0 row4\" >4</th>\n",
       "      <td id=\"T_ce834_row4_col0\" class=\"data row4 col0\" >Is individual Public Transportation Accessibility Positively Associated with Self-Reported Active Commuting?</td>\n",
       "      <td id=\"T_ce834_row4_col1\" class=\"data row4 col1\" >This study extends the knowledge about the driving forces of using public transportation for commuting by examining the individual public transportation accessibility. Findings suggest that...</td>\n",
       "      <td id=\"T_ce834_row4_col2\" class=\"data row4 col2\" >['Instruction: Does association of sleep habits with accidents and near miss in United States transportation operators?\\nContext: To explore sleep risk factors and their association with...</td>\n",
       "      <td id=\"T_ce834_row4_col3\" class=\"data row4 col3\" >The provided context does not contain information to determine if individual public transportation accessibility is positively associated with self-reported active commuting.</td>\n",
       "      <td id=\"T_ce834_row4_col4\" class=\"data row4 col4\" >✔️ [0.326]</td>\n",
       "    </tr>\n",
       "  </tbody>\n",
       "</table>\n"
      ],
      "text/plain": [
       "<pandas.io.formats.style.Styler object at 0x388a46d50>"
      ]
     },
     "metadata": {},
     "output_type": "display_data"
    },
    {
     "data": {
      "text/html": [
       "\n",
       "                <div style='\n",
       "                    text-align: center;\n",
       "                    font-size: 16px;\n",
       "                    font-weight: bold;\n",
       "                    color: #555;\n",
       "                    margin: 10px 0;'>\n",
       "                    ... 45 more rows not displayed ...\n",
       "                </div>\n",
       "                "
      ],
      "text/plain": [
       "<IPython.core.display.HTML object>"
      ]
     },
     "metadata": {},
     "output_type": "display_data"
    },
    {
     "data": {
      "text/plain": [
       "47.41"
      ]
     },
     "execution_count": 40,
     "metadata": {},
     "output_type": "execute_result"
    }
   ],
   "source": [
    "# Once our module is compiled, let's re-evaluate all of the prompts\n",
    "evaluate = Evaluate(\n",
    "    metric=concise_metric, devset=test_examples, num_threads=1, display_progress=True, display_table=5\n",
    ")\n",
    "evaluate(compiled_rag)"
   ]
  },
  {
   "cell_type": "markdown",
   "metadata": {},
   "source": [
    "Now we can see a significant jump in the metric from `26.82` to `47.96`!"
   ]
  },
  {
   "cell_type": "code",
   "execution_count": 64,
   "metadata": {},
   "outputs": [],
   "source": [
    "%%capture captured_output\n",
    "print(lm.inspect_history())"
   ]
  },
  {
   "cell_type": "code",
   "execution_count": 73,
   "metadata": {},
   "outputs": [],
   "source": [
    "import io\n",
    "import contextlib\n",
    "\n",
    "# Step 1: Capture `lm.inspect_history()` output to a string\n",
    "output_buffer = io.StringIO()\n",
    "with contextlib.redirect_stdout(output_buffer):\n",
    "    lm.inspect_history(n=1)\n",
    "captured_output = output_buffer.getvalue()"
   ]
  },
  {
   "cell_type": "code",
   "execution_count": 75,
   "metadata": {},
   "outputs": [
    {
     "data": {
      "text/plain": [
       "<haystack.core.pipeline.pipeline.Pipeline object at 0x388a1b450>\n",
       "🚅 Components\n",
       "  - retriever: InMemoryBM25Retriever\n",
       "  - prompt_builder: PromptBuilder\n",
       "  - llm: AmazonBedrockGenerator\n",
       "  - answer_builder: AnswerBuilder\n",
       "🛤️ Connections\n",
       "  - retriever.documents -> prompt_builder.documents (List[Document])\n",
       "  - prompt_builder.prompt -> llm.prompt (str)\n",
       "  - llm.replies -> answer_builder.replies (List[str])\n"
      ]
     },
     "execution_count": 75,
     "metadata": {},
     "output_type": "execute_result"
    }
   ],
   "source": [
    "from haystack.components.retrievers.in_memory import InMemoryBM25Retriever\n",
    "from haystack.components.builders import PromptBuilder, AnswerBuilder\n",
    "from haystack import Pipeline\n",
    "from haystack_integrations.components.generators.amazon_bedrock import AmazonBedrockGenerator\n",
    "\n",
    "# Initialize the amazon bedrock generator that is used to generate responses to questions\n",
    "# at the inference step of the RAG pipeline\n",
    "new_generator = AmazonBedrockGenerator(model=BEDROCK_HAIKU_MODELID)\n",
    "\n",
    "\n",
    "template = captured_output +\"\"\"\n",
    "---\n",
    "\n",
    "Context:\n",
    "{% for document in documents %}\n",
    "    «{{ document.content }}»\n",
    "{% endfor %}\n",
    "\n",
    "Question: {{question}}\n",
    "Reasoning: Let's think step by step in order to\n",
    "\"\"\"\n",
    "\n",
    "new_prompt_builder = PromptBuilder(template=template)\n",
    "\n",
    "new_retriever = InMemoryBM25Retriever(document_store, top_k=3)\n",
    "\n",
    "answer_builder = AnswerBuilder(pattern=\"Answer: (.*)\")\n",
    "\n",
    "\n",
    "optimized_rag_pipeline = Pipeline()\n",
    "optimized_rag_pipeline.add_component(\"retriever\", new_retriever)\n",
    "optimized_rag_pipeline.add_component(\"prompt_builder\", new_prompt_builder)\n",
    "optimized_rag_pipeline.add_component(\"llm\", new_generator)\n",
    "optimized_rag_pipeline.add_component(\"answer_builder\", answer_builder)\n",
    "\n",
    "optimized_rag_pipeline.connect(\"retriever\", \"prompt_builder.documents\")\n",
    "optimized_rag_pipeline.connect(\"prompt_builder\", \"llm\")\n",
    "optimized_rag_pipeline.connect(\"llm.replies\", \"answer_builder.replies\")\n"
   ]
  },
  {
   "cell_type": "code",
   "execution_count": 76,
   "metadata": {},
   "outputs": [
    {
     "data": {
      "image/png": "[encoded data removed]",
      "text/plain": [
       "<IPython.core.display.Image object>"
      ]
     },
     "metadata": {},
     "output_type": "display_data"
    }
   ],
   "source": [
    "optimized_rag_pipeline.show()"
   ]
  },
  {
   "cell_type": "code",
   "execution_count": 77,
   "metadata": {},
   "outputs": [
    {
     "name": "stderr",
     "output_type": "stream",
     "text": [
      "Token indices sequence length is longer than the specified maximum sequence length for this model (8676 > 4096). Running this sequence through the model will result in indexing errors\n",
      "\u001b[2m2024-11-13T14:27:41.096143Z\u001b[0m [\u001b[33m\u001b[1mwarning  \u001b[0m] \u001b[1mThe prompt was truncated from 8676 tokens to 3996 tokens so that the prompt length and the answer length (100 tokens) fit within the model's max token limit (4096 tokens). Shorten the prompt or it will be cut off.\u001b[0m \u001b[36mlineno\u001b[0m=\u001b[35m182\u001b[0m \u001b[36mmodule\u001b[0m=\u001b[35mhaystack_integrations.components.generators.amazon_bedrock.generator\u001b[0m\n"
     ]
    },
    {
     "name": "stdout",
     "output_type": "stream",
     "text": [
      "\n"
     ]
    }
   ],
   "source": [
    "question = \"What is a neurodegenerative disease? Give me examples\"\n",
    "response = optimized_rag_pipeline.run({\"retriever\": {\"query\": question}, \"prompt_builder\": {\"question\": question}, \"answer_builder\": {\"query\": question}})\n",
    "\n",
    "print(response[\"answer_builder\"][\"answers\"][0].data) # to do"
   ]
  }
 ],
 "metadata": {
  "kernelspec": {
   "display_name": "base",
   "language": "python",
   "name": "python3"
  },
  "language_info": {
   "codemirror_mode": {
    "name": "ipython",
    "version": 3
   },
   "file_extension": ".py",
   "mimetype": "text/x-python",
   "name": "python",
   "nbconvert_exporter": "python",
   "pygments_lexer": "ipython3",
   "version": "3.11.7"
  }
 },
 "nbformat": 4,
 "nbformat_minor": 2
}
